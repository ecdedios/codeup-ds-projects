{
 "cells": [
  {
   "cell_type": "markdown",
   "metadata": {},
   "source": [
    "# Background\n",
    "\n",
    "*Zillow is an online real estate database company founded in 2006 - Wikipedia.* “Zestimates” are estimated home values based on 7.5 million statistical and machine learning models that analyze hundreds of data points on each property. And, by continually improving the median margin of error (from 14% at the onset to 5% today). The Zillow Zestimate Project will predict the error between Zestimate and the sales price of a home. \n",
    "\n",
    "- Project By Ednalyn C. De Dios\n",
    "- Codeup Data Science\n",
    "- ADA Cohort"
   ]
  },
  {
   "cell_type": "markdown",
   "metadata": {},
   "source": [
    "# Project Planning\n",
    "\n",
    "## Goal\n",
    "\n",
    "- Develop a linear regression model that will best predict the log error of the Zestimate.\n",
    "\n",
    "## Deliverables\n",
    "\n",
    "1. Report: presentation\n",
    "1. Jupyter notebook\n",
    "1. Data Dictionary\n",
    "1. Ideas and Hypotheses\n",
    "\n",
    "## Data Dictionary & Details\n",
    "\n",
    "***We will be using 2016 data.***\n",
    "\n",
    "- logerror: \n",
    "- bathroomcnt: \n",
    "- bedroomcnt: \n",
    "- calculatedfinishedsquarefeet: \n",
    "- fullbathcnt: \n",
    "- garagecarcnt: \n",
    "- roomcnt: \n",
    "- yearbuilt: \n",
    "- taxvalueddollarcnt: \n",
    "- taxamount: \n",
    "- region\n",
    "\n",
    "## Initial Thoughts, Ideas, and Hypotheses\n",
    "\n",
    "## Preparing the Environment"
   ]
  },
  {
   "cell_type": "markdown",
   "metadata": {},
   "source": [
    "# Data Acquisition"
   ]
  },
  {
   "cell_type": "markdown",
   "metadata": {},
   "source": [
    "# Data Preparation"
   ]
  },
  {
   "cell_type": "markdown",
   "metadata": {},
   "source": [
    "# Data Exploration"
   ]
  },
  {
   "cell_type": "code",
   "execution_count": null,
   "metadata": {},
   "outputs": [],
   "source": []
  }
 ],
 "metadata": {
  "kernelspec": {
   "display_name": "Python 3",
   "language": "python",
   "name": "python3"
  },
  "language_info": {
   "codemirror_mode": {
    "name": "ipython",
    "version": 3
   },
   "file_extension": ".py",
   "mimetype": "text/x-python",
   "name": "python",
   "nbconvert_exporter": "python",
   "pygments_lexer": "ipython3",
   "version": "3.7.1"
  }
 },
 "nbformat": 4,
 "nbformat_minor": 2
}
